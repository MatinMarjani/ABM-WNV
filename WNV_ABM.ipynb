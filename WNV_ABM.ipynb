{
  "nbformat": 4,
  "nbformat_minor": 0,
  "metadata": {
    "colab": {
      "provenance": [],
      "authorship_tag": "ABX9TyOQUa6pd1ih8HKXMroh9JbN",
      "include_colab_link": true
    },
    "kernelspec": {
      "name": "python3",
      "display_name": "Python 3"
    },
    "language_info": {
      "name": "python"
    }
  },
  "cells": [
    {
      "cell_type": "markdown",
      "metadata": {
        "id": "view-in-github",
        "colab_type": "text"
      },
      "source": [
        "<a href=\"https://colab.research.google.com/github/MatinMarjani/ABM-WNV/blob/main/WNV_ABM.ipynb\" target=\"_parent\"><img src=\"https://colab.research.google.com/assets/colab-badge.svg\" alt=\"Open In Colab\"/></a>"
      ]
    },
    {
      "cell_type": "code",
      "source": [
        "%pip install --quiet mesa"
      ],
      "metadata": {
        "id": "kP1e3mzMx_P9"
      },
      "execution_count": null,
      "outputs": []
    },
    {
      "cell_type": "code",
      "source": [
        "from mesa import Agent, Model\n",
        "from mesa.time import RandomActivation\n",
        "from mesa.space import MultiGrid\n",
        "import random\n",
        "import math"
      ],
      "metadata": {
        "id": "nkAOAZKdx_LD"
      },
      "execution_count": null,
      "outputs": []
    },
    {
      "cell_type": "markdown",
      "source": [
        "# Mosquito and Bird Data Handler\n",
        "## Here we import and handle the prepared GIS data for mosquitos and bird to include in our model"
      ],
      "metadata": {
        "id": "1LzRjCaAoKZ9"
      }
    },
    {
      "cell_type": "code",
      "source": [
        "import numpy as np\n",
        "import pandas as pd\n",
        "\n",
        "class GISDataHandler:\n",
        "    def __init__(self, bird_data_path, mosquito_data_path):\n",
        "        # Load the bird and mosquito data\n",
        "        self.bird_data = self.load_data(bird_data_path)\n",
        "        self.mosquito_data = self.load_data(mosquito_data_path)\n",
        "\n",
        "    def load_data(self, data_path):\n",
        "        # Assuming data is in CSV format, each file containing 52 matrices (one per week)\n",
        "        # with each row representing a flattened grid for a week.\n",
        "        data = pd.read_csv(data_path, header=None)\n",
        "        weeks = []\n",
        "        for week in range(52):\n",
        "            week_data = data.iloc[week].values.reshape(-1, int(np.sqrt(data.shape[1])))\n",
        "            weeks.append(week_data)\n",
        "        return np.array(weeks)\n",
        "\n",
        "    def get_abundance(self, x, y, week, agent_type):\n",
        "        if agent_type == \"bird\":\n",
        "            return self.bird_data[week, x, y]\n",
        "        elif agent_type == \"mosquito\":\n",
        "            return self.mosquito_data[week, x, y]\n",
        "        else:\n",
        "            raise ValueError(\"Invalid agent type. Use 'bird' or 'mosquito'.\")\n",
        "\n",
        "# Example usage:\n",
        "# gis_handler = GISDataHandler('bird_data.csv', 'mosquito_data.csv')\n",
        "# bird_abundance = gis_handler.get_abundance(x, y, week, 'bird')\n",
        "# mosquito_abundance = gis_handler.get_abundance(x, y, week, 'mosquito')\n"
      ],
      "metadata": {
        "id": "6NlM3Nc0oIeO"
      },
      "execution_count": null,
      "outputs": []
    },
    {
      "cell_type": "markdown",
      "source": [
        "# Helper functions\n",
        "\n",
        "## We add the parameters used in the model here."
      ],
      "metadata": {
        "id": "nZYjbrz6lYqo"
      }
    },
    {
      "cell_type": "code",
      "source": [
        "# Helper functions for temperature-dependent parameters\n",
        "def k_T(T):\n",
        "    return 0.344 / (1 + 1.231e-0.1347*(T-20))\n",
        "\n",
        "def bL_T(T):\n",
        "    return 2.325 * k_T(T)\n",
        "\n",
        "def bM_T(T):\n",
        "    return 0.1 * bL_T(T)\n",
        "\n",
        "def mL_T(T):\n",
        "    return 0.0025 * T**2 - 0.094 * T + 1.0257\n",
        "\n",
        "def mM_T(T):\n",
        "    return 0.1 * mL_T(T)\n",
        "\n",
        "def betaM_T(T):\n",
        "    return 0.75 * k_T(T)\n",
        "\n",
        "def gammaM_T(T):\n",
        "    return 1 / (0.00937 * T - 0.1352) if T > 15 else 0"
      ],
      "metadata": {
        "id": "IrAGFIGslW_Z"
      },
      "execution_count": null,
      "outputs": []
    },
    {
      "cell_type": "markdown",
      "source": [
        "# Mosquito Agent\n"
      ],
      "metadata": {
        "id": "R0Ws4fCR5otZ"
      }
    },
    {
      "cell_type": "code",
      "source": [
        "\n",
        "Copy code\n",
        "class Mosquito(Agent):\n",
        "    def __init__(self, unique_id, model, state=\"larvae\"):\n",
        "        super().__init__(unique_id, model)\n",
        "        self.state = state\n",
        "\n",
        "    def step(self):\n",
        "        T = self.model.temperature\n",
        "        x, y = self.pos\n",
        "        week = self.model.schedule.steps % 52  # Determine current week in the simulation\n",
        "        abundance = self.model.gis_data.get_abundance(x, y, week, agent_type=\"mosquito\")\n",
        "\n",
        "        if self.state == \"larvae\":\n",
        "            if random.random() < bM_T(T) and abundance > 0:\n",
        "                self.state = \"susceptible\"\n",
        "            elif random.random() < mL_T(T):\n",
        "                self.state = \"dead\"\n",
        "        elif self.state == \"susceptible\":\n",
        "            self.move()\n",
        "            if random.random() < mM_T(T):\n",
        "                self.state = \"dead\"\n",
        "            elif self.model.check_infection(self):\n",
        "                self.state = \"exposed\"\n",
        "        elif self.state == \"exposed\":\n",
        "            if random.random() < gammaM_T(T):\n",
        "                self.state = \"infectious\"\n",
        "            elif random.random() < mM_T(T):\n",
        "                self.state = \"dead\"\n",
        "        elif self.state == \"infectious\":\n",
        "            self.move()\n",
        "            if random.random() < mM_T(T):\n",
        "                self.state = \"dead\"\n",
        "\n",
        "    def move(self):\n",
        "        possible_steps = self.model.grid.get_neighborhood(self.pos, moore=True, include_center=False)\n",
        "        new_position = random.choice(possible_steps)\n",
        "        self.model.grid.move_agent(self, new_position)"
      ],
      "metadata": {
        "id": "B-78iQDDx_HF"
      },
      "execution_count": null,
      "outputs": []
    },
    {
      "cell_type": "markdown",
      "source": [
        "# Bird Agent"
      ],
      "metadata": {
        "id": "Zj2WaUed5tss"
      }
    },
    {
      "cell_type": "code",
      "source": [
        "class Bird(Agent):\n",
        "    def __init__(self, unique_id, model, state=\"susceptible\"):\n",
        "        super().__init__(unique_id, model)\n",
        "        self.state = state\n",
        "\n",
        "    def step(self):\n",
        "        T = self.model.temperature\n",
        "        x, y = self.pos\n",
        "        week = self.model.schedule.steps % 52  # Determine current week in the simulation\n",
        "        abundance = self.model.gis_data.get_abundance(x, y, week, agent_type=\"bird\")\n",
        "\n",
        "        if self.state == \"susceptible\":\n",
        "            self.move()\n",
        "            if self.model.check_infection(self):\n",
        "                self.state = \"exposed\"\n",
        "        elif self.state == \"exposed\":\n",
        "            if random.random() < self.model.gammaB:\n",
        "                self.state = \"infectious\"\n",
        "            elif random.random() < self.model.mB:\n",
        "                self.state = \"dead\"\n",
        "        elif self.state == \"infectious\":\n",
        "            if random.random() < self.model.alphaB:\n",
        "                self.state = \"dead\"\n",
        "            elif random.random() < (1 - self.model.nuB):\n",
        "                self.state = \"recovered\"\n",
        "        elif self.state == \"recovered\":\n",
        "            if random.random() < self.model.mB:\n",
        "                self.state = \"dead\"\n",
        "\n",
        "    def move(self):\n",
        "        possible_steps = self.model.grid.get_neighborhood(self.pos, moore=True, include_center=False)\n",
        "        new_position = random.choice(possible_steps)\n",
        "        self.model.grid.move_agent(self, new_position)"
      ],
      "metadata": {
        "id": "Mrwo6xt3x_Au"
      },
      "execution_count": null,
      "outputs": []
    },
    {
      "cell_type": "markdown",
      "source": [
        "# Human Agent"
      ],
      "metadata": {
        "id": "MJueT5A95wgo"
      }
    },
    {
      "cell_type": "code",
      "source": [
        "class Human(Agent):\n",
        "    def __init__(self, unique_id, model, state=\"susceptible\"):\n",
        "        super().__init__(unique_id, model)\n",
        "        self.state = state\n",
        "\n",
        "    def step(self):\n",
        "        self.move()\n",
        "        # Infection dynamics for humans can be added here\n",
        "\n",
        "    '''def move(self):\n",
        "        possible_steps = self.model.grid.get_neighborhood(self.pos, moore=True, include_center=False)\n",
        "        new_position = random.choice(possible_steps)\n",
        "        self.model.grid.move_agent(self, new_position)'''"
      ],
      "metadata": {
        "id": "V9Ekua1fyFqV"
      },
      "execution_count": null,
      "outputs": []
    },
    {
      "cell_type": "markdown",
      "source": [
        "# Main Model"
      ],
      "metadata": {
        "id": "2hhEPX0R5664"
      }
    },
    {
      "cell_type": "code",
      "source": [
        "from mesa import Agent, Model\n",
        "from mesa.time import RandomActivation\n",
        "from mesa.space import MultiGrid\n",
        "import random\n",
        "import numpy as np\n",
        "\n",
        "# Updated model class\n",
        "class WNVModel(Model):\n",
        "    def __init__(self, width, height, N, temperature, bird_data_path, mosquito_data_path):\n",
        "        self.num_agents = N\n",
        "        self.grid = MultiGrid(width, height, True)\n",
        "        self.schedule = RandomActivation(self)\n",
        "        self.temperature = temperature\n",
        "        self.gis_data = GISDataHandler(bird_data_path, mosquito_data_path)\n",
        "\n",
        "        # Constants\n",
        "        self.gammaB = 0.333  # Rate infected-infectious birds\n",
        "        self.mB = 0.001404  # Mortality rate of birds\n",
        "        self.alphaB = 0.28  # Removal rate of birds due to infection\n",
        "        self.nuB = 0.43  # Portion of birds dying due to infection\n",
        "\n",
        "        # Create agents\n",
        "        for i in range(self.num_agents):\n",
        "            agent_type = random.choice([\"mosquito\", \"bird\", \"human\"])\n",
        "            x = self.random.randrange(self.grid.width)\n",
        "            y = self.random.randrange(self.grid.height)\n",
        "            if agent_type == \"mosquito\":\n",
        "                abundance = self.gis_data.get_abundance(x, y, week=0, agent_type=\"mosquito\")\n",
        "                state = \"larvae\" if abundance > 0 else \"dead\"\n",
        "                agent = Mosquito(i, self, state)\n",
        "            elif agent_type == \"bird\":\n",
        "                abundance = self.gis_data.get_abundance(x, y, week=0, agent_type=\"bird\")\n",
        "                state = \"susceptible\" if abundance > 0 else \"dead\"\n",
        "                agent = Bird(i, self, state)\n",
        "            else:\n",
        "                agent = Human(i, self)\n",
        "            self.schedule.add(agent)\n",
        "            self.grid.place_agent(agent, (x, y))\n",
        "\n",
        "        # Create a CSV file to save results\n",
        "        self.results_file = open('simulation_results.csv', 'w', newline='')\n",
        "        self.csv_writer = csv.writer(self.results_file)\n",
        "        self.csv_writer.writerow(['step', 'agent_id', 'agent_type', 'x', 'y', 'state'])\n",
        "\n",
        "    def step(self):\n",
        "        self.schedule.step()\n",
        "        self.save_results()\n",
        "\n",
        "    def check_infection(self, agent):\n",
        "        neighbors = self.grid.get_neighbors(agent.pos, moore=True, include_center=False)\n",
        "        if isinstance(agent, Mosquito):\n",
        "            for neighbor in neighbors:\n",
        "                if isinstance(neighbor, Bird) and neighbor.state == \"infectious\":\n",
        "                    return random.random() < betaM_T(self.temperature)\n",
        "        elif isinstance(agent, Bird):\n",
        "            for neighbor in neighbors:\n",
        "                if isinstance(neighbor, Mosquito) and neighbor.state == \"infectious\":\n",
        "                    return random.random() < betaM_T(self.temperature)\n",
        "        return False\n",
        "\n",
        "\n",
        "     def save_results(self):\n",
        "        for agent in self.schedule.agents:\n",
        "            self.csv_writer.writerow([self.schedule.steps, agent.unique_id, type(agent).__name__, agent.pos[0], agent.pos[1], agent.state])\n",
        "\n",
        "     def __del__(self):\n",
        "        self.results_file.close()\n"
      ],
      "metadata": {
        "id": "V3YAlGWvyHSW"
      },
      "execution_count": null,
      "outputs": []
    },
    {
      "cell_type": "markdown",
      "source": [
        "# Simulation"
      ],
      "metadata": {
        "id": "dEo9MD9S5y7u"
      }
    },
    {
      "cell_type": "code",
      "execution_count": null,
      "metadata": {
        "id": "sTzZcytrJJrx"
      },
      "outputs": [],
      "source": [
        "# Running the model\n",
        "if __name__ == \"__main__\":\n",
        "    model = WNVModel(10, 10, 50, 25)\n",
        "\n",
        "    # Run the model for 10 steps\n",
        "    for i in range(10):\n",
        "        model.step()"
      ]
    },
    {
      "cell_type": "markdown",
      "source": [
        "# Results and visualization of the run"
      ],
      "metadata": {
        "id": "Bv6oM2I8p-78"
      }
    },
    {
      "cell_type": "code",
      "source": [
        "import matplotlib.pyplot as plt\n",
        "import matplotlib.animation as animation\n",
        "\n",
        "def animate_simulation(model, num_steps):\n",
        "    fig, ax = plt.subplots()\n",
        "    ims = []\n",
        "\n",
        "    for step in range(num_steps):\n",
        "        model.step()\n",
        "        agents = model.schedule.agents\n",
        "        x_mosquitoes = [agent.pos[0] for agent in agents if isinstance(agent, Mosquito)]\n",
        "        y_mosquitoes = [agent.pos[1] for agent in agents if isinstance(agent, Mosquito)]\n",
        "        x_birds = [agent.pos[0] for agent in agents if isinstance(agent, Bird)]\n",
        "        y_birds = [agent.pos[1] for agent in agents if isinstance(agent, Bird)]\n",
        "        x_humans = [agent.pos[0] for agent in agents if isinstance(agent, Human)]\n",
        "        y_humans = [agent.pos[1] for agent in agents if isinstance(agent, Human)]\n",
        "\n",
        "        im = ax.scatter(x_mosquitoes, y_mosquitoes, c='r', label='Mosquitoes', alpha=0.6)\n",
        "        im = ax.scatter(x_birds, y_birds, c='g', label='Birds', alpha=0.6)\n",
        "        im = ax.scatter(x_humans, y_humans, c='b', label='Humans', alpha=0.6)\n",
        "        ims.append([im])\n",
        "\n",
        "    ani = animation.ArtistAnimation(fig, ims, interval=200, blit=True, repeat_delay=1000)\n",
        "    plt.legend(loc='upper right')\n",
        "    plt.title('Agent-based Model Simulation')\n",
        "    plt.show()\n",
        "\n",
        "# Running the model with visualization\n",
        "if __name__ == \"__main__\":\n",
        "    model = WNVModel(10, 10, 50, 25, 'bird_data.csv', 'mosquito_data.csv')\n",
        "    animate_simulation(model, num_steps=10)\n"
      ],
      "metadata": {
        "id": "AGMkVUxLp-DL"
      },
      "execution_count": null,
      "outputs": []
    }
  ]
}